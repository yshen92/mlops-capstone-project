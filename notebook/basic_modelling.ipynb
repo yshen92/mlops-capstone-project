{
 "cells": [
  {
   "cell_type": "code",
   "execution_count": 1,
   "metadata": {},
   "outputs": [
    {
     "name": "stderr",
     "output_type": "stream",
     "text": [
      "d:\\Softwares\\anaconda3\\envs\\mlops-project\\lib\\site-packages\\tqdm\\auto.py:21: TqdmWarning: IProgress not found. Please update jupyter and ipywidgets. See https://ipywidgets.readthedocs.io/en/stable/user_install.html\n",
      "  from .autonotebook import tqdm as notebook_tqdm\n",
      "Found cached dataset parquet (C:/Users/yshen/.cache/huggingface/datasets/Deysi___parquet/Deysi--spam-detection-dataset-393b2a235e6c9981/0.0.0/14a00e99c0d15a23649d0db8944380ac81082d4b021f398733dd84f3a6c569a7)\n",
      "100%|██████████| 2/2 [00:00<00:00, 666.61it/s]\n"
     ]
    }
   ],
   "source": [
    "from datasets import load_dataset\n",
    "\n",
    "spam_detection_dataset = load_dataset(\"Deysi/spam-detection-dataset\")"
   ]
  },
  {
   "cell_type": "code",
   "execution_count": 2,
   "metadata": {},
   "outputs": [],
   "source": [
    "spam_detection_dataset.set_format(type='pandas')"
   ]
  },
  {
   "cell_type": "code",
   "execution_count": 3,
   "metadata": {},
   "outputs": [],
   "source": [
    "train_df = spam_detection_dataset['train'][:]\n",
    "test_df = spam_detection_dataset['test'][:]"
   ]
  },
  {
   "cell_type": "code",
   "execution_count": 4,
   "metadata": {},
   "outputs": [
    {
     "data": {
      "text/plain": [
       "label\n",
       "spam        0.504587\n",
       "not_spam    0.495413\n",
       "Name: proportion, dtype: float64"
      ]
     },
     "execution_count": 4,
     "metadata": {},
     "output_type": "execute_result"
    }
   ],
   "source": [
    "train_df.label.value_counts(normalize=True)"
   ]
  },
  {
   "cell_type": "code",
   "execution_count": 5,
   "metadata": {},
   "outputs": [
    {
     "data": {
      "text/plain": [
       "label\n",
       "spam        0.504587\n",
       "not_spam    0.495413\n",
       "Name: proportion, dtype: float64"
      ]
     },
     "execution_count": 5,
     "metadata": {},
     "output_type": "execute_result"
    }
   ],
   "source": [
    "test_df.label.value_counts(normalize=True)"
   ]
  },
  {
   "cell_type": "code",
   "execution_count": 6,
   "metadata": {},
   "outputs": [],
   "source": [
    "# Take only a small sample to reduce data pre-processing and training time\n",
    "train_df = train_df.sample(1500, random_state=10)\n",
    "test_df = test_df.sample(500, random_state=10)"
   ]
  },
  {
   "cell_type": "code",
   "execution_count": 7,
   "metadata": {},
   "outputs": [],
   "source": [
    "from joblib import dump\n",
    "\n",
    "train_df.to_csv('dataset/train_df.csv', index=False)\n",
    "test_df.to_csv('dataset/test_df.csv', index=False)"
   ]
  },
  {
   "cell_type": "code",
   "execution_count": 8,
   "metadata": {},
   "outputs": [],
   "source": [
    "from sentence_transformers import SentenceTransformer\n",
    "\n",
    "# Load the model\n",
    "sentence_model = SentenceTransformer('all-mpnet-base-v2', device='cuda')"
   ]
  },
  {
   "cell_type": "code",
   "execution_count": 9,
   "metadata": {},
   "outputs": [
    {
     "name": "stderr",
     "output_type": "stream",
     "text": [
      "Batches: 100%|██████████| 47/47 [00:08<00:00,  5.64it/s]\n"
     ]
    }
   ],
   "source": [
    "train_embeddings = sentence_model.encode(train_df['text'].values, show_progress_bar=True, batch_size=32)"
   ]
  },
  {
   "cell_type": "code",
   "execution_count": 10,
   "metadata": {},
   "outputs": [
    {
     "name": "stderr",
     "output_type": "stream",
     "text": [
      "Batches:   0%|          | 0/16 [00:00<?, ?it/s]"
     ]
    },
    {
     "name": "stderr",
     "output_type": "stream",
     "text": [
      "Batches: 100%|██████████| 16/16 [00:02<00:00,  6.51it/s]\n"
     ]
    }
   ],
   "source": [
    "test_embeddings = sentence_model.encode(test_df['text'].values, show_progress_bar=True, batch_size=32)"
   ]
  },
  {
   "cell_type": "code",
   "execution_count": 11,
   "metadata": {},
   "outputs": [
    {
     "data": {
      "text/plain": [
       "['embeddings/test_embeddings.joblib']"
      ]
     },
     "execution_count": 11,
     "metadata": {},
     "output_type": "execute_result"
    }
   ],
   "source": [
    "dump(train_embeddings, 'embeddings/train_embeddings.joblib')\n",
    "dump(test_embeddings, 'embeddings/test_embeddings.joblib')"
   ]
  },
  {
   "cell_type": "code",
   "execution_count": 12,
   "metadata": {},
   "outputs": [],
   "source": [
    "# import randomforestclassifier from sklearn\n",
    "from sklearn.ensemble import RandomForestClassifier"
   ]
  },
  {
   "cell_type": "code",
   "execution_count": 13,
   "metadata": {},
   "outputs": [],
   "source": [
    "clf = RandomForestClassifier()"
   ]
  },
  {
   "cell_type": "code",
   "execution_count": 14,
   "metadata": {},
   "outputs": [
    {
     "data": {
      "text/html": [
       "<style>#sk-container-id-1 {color: black;}#sk-container-id-1 pre{padding: 0;}#sk-container-id-1 div.sk-toggleable {background-color: white;}#sk-container-id-1 label.sk-toggleable__label {cursor: pointer;display: block;width: 100%;margin-bottom: 0;padding: 0.3em;box-sizing: border-box;text-align: center;}#sk-container-id-1 label.sk-toggleable__label-arrow:before {content: \"▸\";float: left;margin-right: 0.25em;color: #696969;}#sk-container-id-1 label.sk-toggleable__label-arrow:hover:before {color: black;}#sk-container-id-1 div.sk-estimator:hover label.sk-toggleable__label-arrow:before {color: black;}#sk-container-id-1 div.sk-toggleable__content {max-height: 0;max-width: 0;overflow: hidden;text-align: left;background-color: #f0f8ff;}#sk-container-id-1 div.sk-toggleable__content pre {margin: 0.2em;color: black;border-radius: 0.25em;background-color: #f0f8ff;}#sk-container-id-1 input.sk-toggleable__control:checked~div.sk-toggleable__content {max-height: 200px;max-width: 100%;overflow: auto;}#sk-container-id-1 input.sk-toggleable__control:checked~label.sk-toggleable__label-arrow:before {content: \"▾\";}#sk-container-id-1 div.sk-estimator input.sk-toggleable__control:checked~label.sk-toggleable__label {background-color: #d4ebff;}#sk-container-id-1 div.sk-label input.sk-toggleable__control:checked~label.sk-toggleable__label {background-color: #d4ebff;}#sk-container-id-1 input.sk-hidden--visually {border: 0;clip: rect(1px 1px 1px 1px);clip: rect(1px, 1px, 1px, 1px);height: 1px;margin: -1px;overflow: hidden;padding: 0;position: absolute;width: 1px;}#sk-container-id-1 div.sk-estimator {font-family: monospace;background-color: #f0f8ff;border: 1px dotted black;border-radius: 0.25em;box-sizing: border-box;margin-bottom: 0.5em;}#sk-container-id-1 div.sk-estimator:hover {background-color: #d4ebff;}#sk-container-id-1 div.sk-parallel-item::after {content: \"\";width: 100%;border-bottom: 1px solid gray;flex-grow: 1;}#sk-container-id-1 div.sk-label:hover label.sk-toggleable__label {background-color: #d4ebff;}#sk-container-id-1 div.sk-serial::before {content: \"\";position: absolute;border-left: 1px solid gray;box-sizing: border-box;top: 0;bottom: 0;left: 50%;z-index: 0;}#sk-container-id-1 div.sk-serial {display: flex;flex-direction: column;align-items: center;background-color: white;padding-right: 0.2em;padding-left: 0.2em;position: relative;}#sk-container-id-1 div.sk-item {position: relative;z-index: 1;}#sk-container-id-1 div.sk-parallel {display: flex;align-items: stretch;justify-content: center;background-color: white;position: relative;}#sk-container-id-1 div.sk-item::before, #sk-container-id-1 div.sk-parallel-item::before {content: \"\";position: absolute;border-left: 1px solid gray;box-sizing: border-box;top: 0;bottom: 0;left: 50%;z-index: -1;}#sk-container-id-1 div.sk-parallel-item {display: flex;flex-direction: column;z-index: 1;position: relative;background-color: white;}#sk-container-id-1 div.sk-parallel-item:first-child::after {align-self: flex-end;width: 50%;}#sk-container-id-1 div.sk-parallel-item:last-child::after {align-self: flex-start;width: 50%;}#sk-container-id-1 div.sk-parallel-item:only-child::after {width: 0;}#sk-container-id-1 div.sk-dashed-wrapped {border: 1px dashed gray;margin: 0 0.4em 0.5em 0.4em;box-sizing: border-box;padding-bottom: 0.4em;background-color: white;}#sk-container-id-1 div.sk-label label {font-family: monospace;font-weight: bold;display: inline-block;line-height: 1.2em;}#sk-container-id-1 div.sk-label-container {text-align: center;}#sk-container-id-1 div.sk-container {/* jupyter's `normalize.less` sets `[hidden] { display: none; }` but bootstrap.min.css set `[hidden] { display: none !important; }` so we also need the `!important` here to be able to override the default hidden behavior on the sphinx rendered scikit-learn.org. See: https://github.com/scikit-learn/scikit-learn/issues/21755 */display: inline-block !important;position: relative;}#sk-container-id-1 div.sk-text-repr-fallback {display: none;}</style><div id=\"sk-container-id-1\" class=\"sk-top-container\"><div class=\"sk-text-repr-fallback\"><pre>RandomForestClassifier()</pre><b>In a Jupyter environment, please rerun this cell to show the HTML representation or trust the notebook. <br />On GitHub, the HTML representation is unable to render, please try loading this page with nbviewer.org.</b></div><div class=\"sk-container\" hidden><div class=\"sk-item\"><div class=\"sk-estimator sk-toggleable\"><input class=\"sk-toggleable__control sk-hidden--visually\" id=\"sk-estimator-id-1\" type=\"checkbox\" checked><label for=\"sk-estimator-id-1\" class=\"sk-toggleable__label sk-toggleable__label-arrow\">RandomForestClassifier</label><div class=\"sk-toggleable__content\"><pre>RandomForestClassifier()</pre></div></div></div></div></div>"
      ],
      "text/plain": [
       "RandomForestClassifier()"
      ]
     },
     "execution_count": 14,
     "metadata": {},
     "output_type": "execute_result"
    }
   ],
   "source": [
    "clf.fit(train_embeddings, train_df['label'])"
   ]
  },
  {
   "cell_type": "code",
   "execution_count": 15,
   "metadata": {},
   "outputs": [],
   "source": [
    "predict = clf.predict(test_embeddings)"
   ]
  },
  {
   "cell_type": "code",
   "execution_count": 16,
   "metadata": {},
   "outputs": [
    {
     "data": {
      "text/plain": [
       "array([[246,   2],\n",
       "       [  0, 252]], dtype=int64)"
      ]
     },
     "execution_count": 16,
     "metadata": {},
     "output_type": "execute_result"
    }
   ],
   "source": [
    "from sklearn.metrics import confusion_matrix\n",
    "\n",
    "confusion_matrix(test_df['label'], predict)"
   ]
  },
  {
   "cell_type": "code",
   "execution_count": 17,
   "metadata": {},
   "outputs": [
    {
     "name": "stdout",
     "output_type": "stream",
     "text": [
      "              precision    recall  f1-score   support\n",
      "\n",
      "    not_spam       1.00      0.99      1.00       248\n",
      "        spam       0.99      1.00      1.00       252\n",
      "\n",
      "    accuracy                           1.00       500\n",
      "   macro avg       1.00      1.00      1.00       500\n",
      "weighted avg       1.00      1.00      1.00       500\n",
      "\n"
     ]
    }
   ],
   "source": [
    "from sklearn.metrics import classification_report\n",
    "\n",
    "print(classification_report(test_df['label'], predict))"
   ]
  },
  {
   "cell_type": "code",
   "execution_count": 18,
   "metadata": {},
   "outputs": [
    {
     "name": "stderr",
     "output_type": "stream",
     "text": [
      "2023/07/22 18:02:45 INFO mlflow.store.db.utils: Creating initial MLflow database tables...\n",
      "2023/07/22 18:02:45 INFO mlflow.store.db.utils: Updating database tables\n",
      "INFO  [alembic.runtime.migration] Context impl SQLiteImpl.\n",
      "INFO  [alembic.runtime.migration] Will assume non-transactional DDL.\n",
      "INFO  [alembic.runtime.migration] Running upgrade  -> 451aebb31d03, add metric step\n",
      "INFO  [alembic.runtime.migration] Running upgrade 451aebb31d03 -> 90e64c465722, migrate user column to tags\n",
      "INFO  [alembic.runtime.migration] Running upgrade 90e64c465722 -> 181f10493468, allow nulls for metric values\n",
      "INFO  [alembic.runtime.migration] Running upgrade 181f10493468 -> df50e92ffc5e, Add Experiment Tags Table\n",
      "INFO  [alembic.runtime.migration] Running upgrade df50e92ffc5e -> 7ac759974ad8, Update run tags with larger limit\n",
      "INFO  [alembic.runtime.migration] Running upgrade 7ac759974ad8 -> 89d4b8295536, create latest metrics table\n",
      "INFO  [89d4b8295536_create_latest_metrics_table_py] Migration complete!\n",
      "INFO  [alembic.runtime.migration] Running upgrade 89d4b8295536 -> 2b4d017a5e9b, add model registry tables to db\n",
      "INFO  [2b4d017a5e9b_add_model_registry_tables_to_db_py] Adding registered_models and model_versions tables to database.\n",
      "INFO  [2b4d017a5e9b_add_model_registry_tables_to_db_py] Migration complete!\n",
      "INFO  [alembic.runtime.migration] Running upgrade 2b4d017a5e9b -> cfd24bdc0731, Update run status constraint with killed\n",
      "INFO  [alembic.runtime.migration] Running upgrade cfd24bdc0731 -> 0a8213491aaa, drop_duplicate_killed_constraint\n",
      "INFO  [alembic.runtime.migration] Running upgrade 0a8213491aaa -> 728d730b5ebd, add registered model tags table\n",
      "INFO  [alembic.runtime.migration] Running upgrade 728d730b5ebd -> 27a6a02d2cf1, add model version tags table\n",
      "INFO  [alembic.runtime.migration] Running upgrade 27a6a02d2cf1 -> 84291f40a231, add run_link to model_version\n",
      "INFO  [alembic.runtime.migration] Running upgrade 84291f40a231 -> a8c4a736bde6, allow nulls for run_id\n",
      "INFO  [alembic.runtime.migration] Running upgrade a8c4a736bde6 -> 39d1c3be5f05, add_is_nan_constraint_for_metrics_tables_if_necessary\n",
      "INFO  [alembic.runtime.migration] Running upgrade 39d1c3be5f05 -> c48cb773bb87, reset_default_value_for_is_nan_in_metrics_table_for_mysql\n",
      "INFO  [alembic.runtime.migration] Running upgrade c48cb773bb87 -> bd07f7e963c5, create index on run_uuid\n",
      "INFO  [alembic.runtime.migration] Running upgrade bd07f7e963c5 -> 0c779009ac13, add deleted_time field to runs table\n",
      "INFO  [alembic.runtime.migration] Running upgrade 0c779009ac13 -> cc1f77228345, change param value length to 500\n",
      "INFO  [alembic.runtime.migration] Running upgrade cc1f77228345 -> 97727af70f4d, Add creation_time and last_update_time to experiments table\n",
      "INFO  [alembic.runtime.migration] Running upgrade 97727af70f4d -> 3500859a5d39, Add Model Aliases table\n",
      "INFO  [alembic.runtime.migration] Running upgrade 3500859a5d39 -> 7f2a7d5fae7d, add datasets inputs input_tags tables\n",
      "INFO  [alembic.runtime.migration] Context impl SQLiteImpl.\n",
      "INFO  [alembic.runtime.migration] Will assume non-transactional DDL.\n"
     ]
    },
    {
     "data": {
      "text/plain": [
       "'1'"
      ]
     },
     "execution_count": 18,
     "metadata": {},
     "output_type": "execute_result"
    }
   ],
   "source": [
    "from mlflow.tracking import MlflowClient\n",
    "\n",
    "\n",
    "MLFLOW_TRACKING_URI = \"sqlite:///mlflow.db\"\n",
    "MLFLOW_EXPERIMENT_NAME = \"spam-detection-experiment\"\n",
    "client = MlflowClient(tracking_uri=MLFLOW_TRACKING_URI)\n",
    "\n",
    "# Create a new experiment\n",
    "client.create_experiment(name=MLFLOW_EXPERIMENT_NAME)"
   ]
  },
  {
   "cell_type": "code",
   "execution_count": 19,
   "metadata": {},
   "outputs": [
    {
     "data": {
      "text/plain": [
       "<Experiment: artifact_location='file:///e:/Projects/Git/mlops_project/mlruns/1', creation_time=1690020166075, experiment_id='1', last_update_time=1690020166075, lifecycle_stage='active', name='spam-detection-experiment', tags={}>"
      ]
     },
     "execution_count": 19,
     "metadata": {},
     "output_type": "execute_result"
    }
   ],
   "source": [
    "import optuna\n",
    "import mlflow\n",
    "from optuna.integration.mlflow import MLflowCallback\n",
    "\n",
    "mlflow.set_tracking_uri(MLFLOW_TRACKING_URI)\n",
    "mlflow.set_experiment(MLFLOW_EXPERIMENT_NAME)"
   ]
  },
  {
   "cell_type": "code",
   "execution_count": 20,
   "metadata": {},
   "outputs": [
    {
     "name": "stderr",
     "output_type": "stream",
     "text": [
      "C:\\Users\\yshen\\AppData\\Local\\Temp\\ipykernel_23724\\2596538529.py:14: ExperimentalWarning: MLflowCallback is experimental (supported from v1.4.0). The interface can change in the future.\n",
      "  mlflc = MLflowCallback(\n",
      "[I 2023-07-22 18:02:46,213] A new study created in memory with name: no-name-951a08eb-2e4f-4569-9d91-7c1e60b9fd5e\n",
      "[I 2023-07-22 18:02:46,397] Trial 0 finished with value: 0.98 and parameters: {'rf_max_depth': 6, 'rf_n_estimators': 7}. Best is trial 0 with value: 0.98.\n",
      "[I 2023-07-22 18:02:47,150] Trial 1 finished with value: 0.988 and parameters: {'rf_max_depth': 2, 'rf_n_estimators': 61}. Best is trial 1 with value: 0.988.\n",
      "[I 2023-07-22 18:02:47,536] Trial 2 finished with value: 0.98 and parameters: {'rf_max_depth': 23, 'rf_n_estimators': 11}. Best is trial 1 with value: 0.988.\n",
      "[I 2023-07-22 18:02:48,610] Trial 3 finished with value: 0.996 and parameters: {'rf_max_depth': 20, 'rf_n_estimators': 32}. Best is trial 3 with value: 0.996.\n",
      "[I 2023-07-22 18:02:51,350] Trial 4 finished with value: 1.0 and parameters: {'rf_max_depth': 26, 'rf_n_estimators': 85}. Best is trial 4 with value: 1.0.\n",
      "[I 2023-07-22 18:02:51,803] Trial 5 finished with value: 0.992 and parameters: {'rf_max_depth': 17, 'rf_n_estimators': 13}. Best is trial 4 with value: 1.0.\n",
      "[I 2023-07-22 18:02:52,045] Trial 6 finished with value: 0.978 and parameters: {'rf_max_depth': 23, 'rf_n_estimators': 7}. Best is trial 4 with value: 1.0.\n",
      "[I 2023-07-22 18:02:52,654] Trial 7 finished with value: 0.996 and parameters: {'rf_max_depth': 22, 'rf_n_estimators': 18}. Best is trial 4 with value: 1.0.\n",
      "[I 2023-07-22 18:02:52,770] Trial 8 finished with value: 0.97 and parameters: {'rf_max_depth': 2, 'rf_n_estimators': 8}. Best is trial 4 with value: 1.0.\n",
      "[I 2023-07-22 18:02:54,019] Trial 9 finished with value: 0.998 and parameters: {'rf_max_depth': 3, 'rf_n_estimators': 86}. Best is trial 4 with value: 1.0.\n",
      "[I 2023-07-22 18:02:55,314] Trial 10 finished with value: 1.0 and parameters: {'rf_max_depth': 11, 'rf_n_estimators': 40}. Best is trial 4 with value: 1.0.\n",
      "[I 2023-07-22 18:02:56,820] Trial 11 finished with value: 0.994 and parameters: {'rf_max_depth': 11, 'rf_n_estimators': 45}. Best is trial 4 with value: 1.0.\n",
      "[I 2023-07-22 18:02:59,936] Trial 12 finished with value: 0.998 and parameters: {'rf_max_depth': 31, 'rf_n_estimators': 99}. Best is trial 4 with value: 1.0.\n",
      "[I 2023-07-22 18:03:00,998] Trial 13 finished with value: 0.998 and parameters: {'rf_max_depth': 9, 'rf_n_estimators': 33}. Best is trial 4 with value: 1.0.\n",
      "[I 2023-07-22 18:03:03,011] Trial 14 finished with value: 0.998 and parameters: {'rf_max_depth': 13, 'rf_n_estimators': 62}. Best is trial 4 with value: 1.0.\n",
      "[I 2023-07-22 18:03:03,742] Trial 15 finished with value: 0.998 and parameters: {'rf_max_depth': 7, 'rf_n_estimators': 25}. Best is trial 4 with value: 1.0.\n",
      "[I 2023-07-22 18:03:05,380] Trial 16 finished with value: 0.994 and parameters: {'rf_max_depth': 14, 'rf_n_estimators': 50}. Best is trial 4 with value: 1.0.\n",
      "[I 2023-07-22 18:03:07,863] Trial 17 finished with value: 0.996 and parameters: {'rf_max_depth': 32, 'rf_n_estimators': 75}. Best is trial 4 with value: 1.0.\n",
      "[I 2023-07-22 18:03:09,318] Trial 18 finished with value: 0.992 and parameters: {'rf_max_depth': 10, 'rf_n_estimators': 43}. Best is trial 4 with value: 1.0.\n",
      "[I 2023-07-22 18:03:12,356] Trial 19 finished with value: 0.998 and parameters: {'rf_max_depth': 16, 'rf_n_estimators': 95}. Best is trial 4 with value: 1.0.\n",
      "[I 2023-07-22 18:03:12,510] Trial 20 finished with value: 0.972 and parameters: {'rf_max_depth': 5, 'rf_n_estimators': 5}. Best is trial 4 with value: 1.0.\n",
      "[I 2023-07-22 18:03:13,607] Trial 21 finished with value: 0.996 and parameters: {'rf_max_depth': 3, 'rf_n_estimators': 76}. Best is trial 4 with value: 1.0.\n",
      "[I 2023-07-22 18:03:15,464] Trial 22 finished with value: 1.0 and parameters: {'rf_max_depth': 4, 'rf_n_estimators': 99}. Best is trial 4 with value: 1.0.\n",
      "[I 2023-07-22 18:03:17,454] Trial 23 finished with value: 0.998 and parameters: {'rf_max_depth': 9, 'rf_n_estimators': 63}. Best is trial 4 with value: 1.0.\n",
      "[I 2023-07-22 18:03:18,985] Trial 24 finished with value: 0.998 and parameters: {'rf_max_depth': 5, 'rf_n_estimators': 67}. Best is trial 4 with value: 1.0.\n",
      "[I 2023-07-22 18:03:22,342] Trial 25 finished with value: 0.998 and parameters: {'rf_max_depth': 12, 'rf_n_estimators': 99}. Best is trial 4 with value: 1.0.\n",
      "[I 2023-07-22 18:03:24,059] Trial 26 finished with value: 0.998 and parameters: {'rf_max_depth': 16, 'rf_n_estimators': 50}. Best is trial 4 with value: 1.0.\n",
      "[I 2023-07-22 18:03:26,236] Trial 27 finished with value: 0.998 and parameters: {'rf_max_depth': 7, 'rf_n_estimators': 78}. Best is trial 4 with value: 1.0.\n",
      "[I 2023-07-22 18:03:27,997] Trial 28 finished with value: 1.0 and parameters: {'rf_max_depth': 8, 'rf_n_estimators': 59}. Best is trial 4 with value: 1.0.\n",
      "[I 2023-07-22 18:03:29,988] Trial 29 finished with value: 0.994 and parameters: {'rf_max_depth': 6, 'rf_n_estimators': 79}. Best is trial 4 with value: 1.0.\n",
      "[I 2023-07-22 18:03:31,185] Trial 30 finished with value: 0.996 and parameters: {'rf_max_depth': 11, 'rf_n_estimators': 39}. Best is trial 4 with value: 1.0.\n",
      "[I 2023-07-22 18:03:32,835] Trial 31 finished with value: 0.996 and parameters: {'rf_max_depth': 8, 'rf_n_estimators': 56}. Best is trial 4 with value: 1.0.\n",
      "[I 2023-07-22 18:03:34,758] Trial 32 finished with value: 0.998 and parameters: {'rf_max_depth': 13, 'rf_n_estimators': 57}. Best is trial 4 with value: 1.0.\n",
      "[I 2023-07-22 18:03:37,523] Trial 33 finished with value: 0.996 and parameters: {'rf_max_depth': 27, 'rf_n_estimators': 82}. Best is trial 4 with value: 1.0.\n",
      "[I 2023-07-22 18:03:39,737] Trial 34 finished with value: 0.998 and parameters: {'rf_max_depth': 19, 'rf_n_estimators': 67}. Best is trial 4 with value: 1.0.\n",
      "[I 2023-07-22 18:03:41,530] Trial 35 finished with value: 0.998 and parameters: {'rf_max_depth': 26, 'rf_n_estimators': 55}. Best is trial 4 with value: 1.0.\n",
      "[I 2023-07-22 18:03:42,746] Trial 36 finished with value: 1.0 and parameters: {'rf_max_depth': 19, 'rf_n_estimators': 39}. Best is trial 4 with value: 1.0.\n",
      "[I 2023-07-22 18:03:44,965] Trial 37 finished with value: 0.998 and parameters: {'rf_max_depth': 15, 'rf_n_estimators': 68}. Best is trial 4 with value: 1.0.\n",
      "[I 2023-07-22 18:03:47,797] Trial 38 finished with value: 0.998 and parameters: {'rf_max_depth': 21, 'rf_n_estimators': 90}. Best is trial 4 with value: 1.0.\n",
      "[I 2023-07-22 18:03:49,399] Trial 39 finished with value: 0.998 and parameters: {'rf_max_depth': 18, 'rf_n_estimators': 50}. Best is trial 4 with value: 1.0.\n",
      "[I 2023-07-22 18:03:50,398] Trial 40 finished with value: 0.994 and parameters: {'rf_max_depth': 23, 'rf_n_estimators': 30}. Best is trial 4 with value: 1.0.\n",
      "[I 2023-07-22 18:03:51,677] Trial 41 finished with value: 0.996 and parameters: {'rf_max_depth': 19, 'rf_n_estimators': 38}. Best is trial 4 with value: 1.0.\n",
      "[I 2023-07-22 18:03:53,885] Trial 42 finished with value: 1.0 and parameters: {'rf_max_depth': 26, 'rf_n_estimators': 71}. Best is trial 4 with value: 1.0.\n",
      "[I 2023-07-22 18:03:56,661] Trial 43 finished with value: 0.998 and parameters: {'rf_max_depth': 15, 'rf_n_estimators': 89}. Best is trial 4 with value: 1.0.\n",
      "[I 2023-07-22 18:03:58,095] Trial 44 finished with value: 0.996 and parameters: {'rf_max_depth': 18, 'rf_n_estimators': 44}. Best is trial 4 with value: 1.0.\n",
      "[I 2023-07-22 18:03:58,848] Trial 45 finished with value: 0.99 and parameters: {'rf_max_depth': 12, 'rf_n_estimators': 21}. Best is trial 4 with value: 1.0.\n",
      "[I 2023-07-22 18:03:59,934] Trial 46 finished with value: 0.99 and parameters: {'rf_max_depth': 21, 'rf_n_estimators': 35}. Best is trial 4 with value: 1.0.\n",
      "[I 2023-07-22 18:04:01,728] Trial 47 finished with value: 0.998 and parameters: {'rf_max_depth': 10, 'rf_n_estimators': 59}. Best is trial 4 with value: 1.0.\n",
      "[I 2023-07-22 18:04:04,962] Trial 48 finished with value: 1.0 and parameters: {'rf_max_depth': 14, 'rf_n_estimators': 100}. Best is trial 4 with value: 1.0.\n",
      "[I 2023-07-22 18:04:05,982] Trial 49 finished with value: 0.996 and parameters: {'rf_max_depth': 17, 'rf_n_estimators': 29}. Best is trial 4 with value: 1.0.\n",
      "[I 2023-07-22 18:04:08,656] Trial 50 finished with value: 1.0 and parameters: {'rf_max_depth': 24, 'rf_n_estimators': 87}. Best is trial 4 with value: 1.0.\n",
      "[I 2023-07-22 18:04:11,009] Trial 51 finished with value: 1.0 and parameters: {'rf_max_depth': 28, 'rf_n_estimators': 70}. Best is trial 4 with value: 1.0.\n",
      "[I 2023-07-22 18:04:13,374] Trial 52 finished with value: 1.0 and parameters: {'rf_max_depth': 31, 'rf_n_estimators': 74}. Best is trial 4 with value: 1.0.\n",
      "[I 2023-07-22 18:04:14,968] Trial 53 finished with value: 0.996 and parameters: {'rf_max_depth': 23, 'rf_n_estimators': 48}. Best is trial 4 with value: 1.0.\n",
      "[I 2023-07-22 18:04:16,863] Trial 54 finished with value: 0.998 and parameters: {'rf_max_depth': 26, 'rf_n_estimators': 61}. Best is trial 4 with value: 1.0.\n",
      "[I 2023-07-22 18:04:19,411] Trial 55 finished with value: 1.0 and parameters: {'rf_max_depth': 28, 'rf_n_estimators': 82}. Best is trial 4 with value: 1.0.\n",
      "[I 2023-07-22 18:04:21,731] Trial 56 finished with value: 0.996 and parameters: {'rf_max_depth': 20, 'rf_n_estimators': 72}. Best is trial 4 with value: 1.0.\n",
      "[I 2023-07-22 18:04:23,377] Trial 57 finished with value: 0.996 and parameters: {'rf_max_depth': 32, 'rf_n_estimators': 54}. Best is trial 4 with value: 1.0.\n",
      "[I 2023-07-22 18:04:24,838] Trial 58 finished with value: 0.996 and parameters: {'rf_max_depth': 21, 'rf_n_estimators': 43}. Best is trial 4 with value: 1.0.\n",
      "[I 2023-07-22 18:04:26,817] Trial 59 finished with value: 0.998 and parameters: {'rf_max_depth': 24, 'rf_n_estimators': 62}. Best is trial 4 with value: 1.0.\n",
      "[I 2023-07-22 18:04:29,479] Trial 60 finished with value: 1.0 and parameters: {'rf_max_depth': 16, 'rf_n_estimators': 84}. Best is trial 4 with value: 1.0.\n",
      "[I 2023-07-22 18:04:32,731] Trial 61 finished with value: 0.998 and parameters: {'rf_max_depth': 13, 'rf_n_estimators': 100}. Best is trial 4 with value: 1.0.\n",
      "[I 2023-07-22 18:04:35,496] Trial 62 finished with value: 0.998 and parameters: {'rf_max_depth': 8, 'rf_n_estimators': 91}. Best is trial 4 with value: 1.0.\n",
      "[I 2023-07-22 18:04:37,865] Trial 63 finished with value: 1.0 and parameters: {'rf_max_depth': 14, 'rf_n_estimators': 76}. Best is trial 4 with value: 1.0.\n",
      "[I 2023-07-22 18:04:40,906] Trial 64 finished with value: 0.994 and parameters: {'rf_max_depth': 17, 'rf_n_estimators': 95}. Best is trial 4 with value: 1.0.\n",
      "[I 2023-07-22 18:04:42,896] Trial 65 finished with value: 1.0 and parameters: {'rf_max_depth': 11, 'rf_n_estimators': 66}. Best is trial 4 with value: 1.0.\n",
      "[I 2023-07-22 18:04:45,410] Trial 66 finished with value: 0.998 and parameters: {'rf_max_depth': 19, 'rf_n_estimators': 81}. Best is trial 4 with value: 1.0.\n",
      "[I 2023-07-22 18:04:47,168] Trial 67 finished with value: 0.998 and parameters: {'rf_max_depth': 4, 'rf_n_estimators': 96}. Best is trial 4 with value: 1.0.\n",
      "[I 2023-07-22 18:04:49,337] Trial 68 finished with value: 0.996 and parameters: {'rf_max_depth': 10, 'rf_n_estimators': 69}. Best is trial 4 with value: 1.0.\n",
      "[I 2023-07-22 18:04:52,012] Trial 69 finished with value: 0.998 and parameters: {'rf_max_depth': 22, 'rf_n_estimators': 87}. Best is trial 4 with value: 1.0.\n",
      "[I 2023-07-22 18:04:52,781] Trial 70 finished with value: 0.988 and parameters: {'rf_max_depth': 2, 'rf_n_estimators': 75}. Best is trial 4 with value: 1.0.\n",
      "[I 2023-07-22 18:04:55,653] Trial 71 finished with value: 0.996 and parameters: {'rf_max_depth': 25, 'rf_n_estimators': 88}. Best is trial 4 with value: 1.0.\n",
      "[I 2023-07-22 18:04:58,309] Trial 72 finished with value: 0.998 and parameters: {'rf_max_depth': 29, 'rf_n_estimators': 82}. Best is trial 4 with value: 1.0.\n",
      "[I 2023-07-22 18:05:01,440] Trial 73 finished with value: 1.0 and parameters: {'rf_max_depth': 24, 'rf_n_estimators': 98}. Best is trial 4 with value: 1.0.\n",
      "[I 2023-07-22 18:05:03,722] Trial 74 finished with value: 0.998 and parameters: {'rf_max_depth': 26, 'rf_n_estimators': 67}. Best is trial 4 with value: 1.0.\n",
      "[I 2023-07-22 18:05:05,631] Trial 75 finished with value: 1.0 and parameters: {'rf_max_depth': 30, 'rf_n_estimators': 62}. Best is trial 4 with value: 1.0.\n",
      "[I 2023-07-22 18:05:07,313] Trial 76 finished with value: 0.992 and parameters: {'rf_max_depth': 22, 'rf_n_estimators': 53}. Best is trial 4 with value: 1.0.\n",
      "[I 2023-07-22 18:05:10,188] Trial 77 finished with value: 0.998 and parameters: {'rf_max_depth': 25, 'rf_n_estimators': 88}. Best is trial 4 with value: 1.0.\n",
      "[I 2023-07-22 18:05:12,533] Trial 78 finished with value: 0.998 and parameters: {'rf_max_depth': 20, 'rf_n_estimators': 75}. Best is trial 4 with value: 1.0.\n",
      "[I 2023-07-22 18:05:14,127] Trial 79 finished with value: 0.998 and parameters: {'rf_max_depth': 14, 'rf_n_estimators': 47}. Best is trial 4 with value: 1.0.\n",
      "[I 2023-07-22 18:05:15,939] Trial 80 finished with value: 0.998 and parameters: {'rf_max_depth': 28, 'rf_n_estimators': 58}. Best is trial 4 with value: 1.0.\n",
      "[I 2023-07-22 18:05:18,120] Trial 81 finished with value: 0.996 and parameters: {'rf_max_depth': 28, 'rf_n_estimators': 70}. Best is trial 4 with value: 1.0.\n",
      "[I 2023-07-22 18:05:20,594] Trial 82 finished with value: 1.0 and parameters: {'rf_max_depth': 32, 'rf_n_estimators': 80}. Best is trial 4 with value: 1.0.\n",
      "[I 2023-07-22 18:05:23,423] Trial 83 finished with value: 0.998 and parameters: {'rf_max_depth': 24, 'rf_n_estimators': 92}. Best is trial 4 with value: 1.0.\n",
      "[I 2023-07-22 18:05:26,751] Trial 84 finished with value: 0.998 and parameters: {'rf_max_depth': 29, 'rf_n_estimators': 100}. Best is trial 4 with value: 1.0.\n",
      "[I 2023-07-22 18:05:28,703] Trial 85 finished with value: 1.0 and parameters: {'rf_max_depth': 27, 'rf_n_estimators': 64}. Best is trial 4 with value: 1.0.\n",
      "[I 2023-07-22 18:05:30,879] Trial 86 finished with value: 0.998 and parameters: {'rf_max_depth': 18, 'rf_n_estimators': 71}. Best is trial 4 with value: 1.0.\n",
      "[I 2023-07-22 18:05:32,220] Trial 87 finished with value: 0.996 and parameters: {'rf_max_depth': 22, 'rf_n_estimators': 41}. Best is trial 4 with value: 1.0.\n",
      "[I 2023-07-22 18:05:33,911] Trial 88 finished with value: 0.994 and parameters: {'rf_max_depth': 26, 'rf_n_estimators': 52}. Best is trial 4 with value: 1.0.\n",
      "[I 2023-07-22 18:05:35,716] Trial 89 finished with value: 0.998 and parameters: {'rf_max_depth': 30, 'rf_n_estimators': 56}. Best is trial 4 with value: 1.0.\n",
      "[I 2023-07-22 18:05:38,506] Trial 90 finished with value: 1.0 and parameters: {'rf_max_depth': 23, 'rf_n_estimators': 84}. Best is trial 4 with value: 1.0.\n",
      "[I 2023-07-22 18:05:40,850] Trial 91 finished with value: 0.998 and parameters: {'rf_max_depth': 32, 'rf_n_estimators': 75}. Best is trial 4 with value: 1.0.\n",
      "[I 2023-07-22 18:05:43,173] Trial 92 finished with value: 1.0 and parameters: {'rf_max_depth': 30, 'rf_n_estimators': 73}. Best is trial 4 with value: 1.0.\n",
      "[I 2023-07-22 18:05:45,953] Trial 93 finished with value: 0.996 and parameters: {'rf_max_depth': 27, 'rf_n_estimators': 91}. Best is trial 4 with value: 1.0.\n",
      "[I 2023-07-22 18:05:48,413] Trial 94 finished with value: 0.998 and parameters: {'rf_max_depth': 25, 'rf_n_estimators': 79}. Best is trial 4 with value: 1.0.\n",
      "[I 2023-07-22 18:05:50,364] Trial 95 finished with value: 1.0 and parameters: {'rf_max_depth': 31, 'rf_n_estimators': 61}. Best is trial 4 with value: 1.0.\n",
      "[I 2023-07-22 18:05:53,049] Trial 96 finished with value: 0.996 and parameters: {'rf_max_depth': 28, 'rf_n_estimators': 85}. Best is trial 4 with value: 1.0.\n",
      "[I 2023-07-22 18:05:55,118] Trial 97 finished with value: 0.998 and parameters: {'rf_max_depth': 20, 'rf_n_estimators': 65}. Best is trial 4 with value: 1.0.\n",
      "[I 2023-07-22 18:05:57,424] Trial 98 finished with value: 1.0 and parameters: {'rf_max_depth': 21, 'rf_n_estimators': 70}. Best is trial 4 with value: 1.0.\n",
      "[I 2023-07-22 18:05:59,788] Trial 99 finished with value: 0.998 and parameters: {'rf_max_depth': 9, 'rf_n_estimators': 79}. Best is trial 4 with value: 1.0.\n"
     ]
    }
   ],
   "source": [
    "from sklearn.metrics import accuracy_score\n",
    "\n",
    "def objective(trial):\n",
    "    rf_max_depth = trial.suggest_int(\"rf_max_depth\", 2, 32, log=True)\n",
    "    rf_n_estimators = trial.suggest_int(\"rf_n_estimators\", 5, 100, log=True)\n",
    "    clf = RandomForestClassifier(max_depth=rf_max_depth, n_estimators=rf_n_estimators)\n",
    "    clf.fit(train_embeddings, train_df['label'])\n",
    "\n",
    "    predictions = clf.predict(test_embeddings)\n",
    "    accuracy = accuracy_score(test_df['label'], predictions)\n",
    "    return accuracy\n",
    "\n",
    "mlflc = MLflowCallback(\n",
    "    tracking_uri=MLFLOW_TRACKING_URI,\n",
    "    metric_name='accuracy',\n",
    "    create_experiment=False,\n",
    ")\n",
    "\n",
    "study = optuna.create_study(direction=\"maximize\")\n",
    "study.optimize(objective, n_trials=100, callbacks=[mlflc])"
   ]
  },
  {
   "cell_type": "code",
   "execution_count": 21,
   "metadata": {},
   "outputs": [
    {
     "data": {
      "text/plain": [
       "1.0"
      ]
     },
     "execution_count": 21,
     "metadata": {},
     "output_type": "execute_result"
    }
   ],
   "source": [
    "study.best_value"
   ]
  },
  {
   "cell_type": "code",
   "execution_count": 22,
   "metadata": {},
   "outputs": [],
   "source": [
    "# Search for runs in the experiment\n",
    "# Get based on the best trial value with the lowest n_estimators\n",
    "from mlflow.entities import ViewType\n",
    "\n",
    "spam_detection_experiment=dict(mlflow.get_experiment_by_name(MLFLOW_EXPERIMENT_NAME))\n",
    "experiment_id=spam_detection_experiment['experiment_id']\n",
    "\n",
    "best_run = client.search_runs( \n",
    "    experiment_ids=experiment_id,\n",
    "    filter_string=f'metrics.accuracy = {study.best_value}',\n",
    "    run_view_type= ViewType.ACTIVE_ONLY,\n",
    "    max_results=1,\n",
    "    order_by=['parameters.rf_n_estimators ASC']\n",
    ")[0]\n"
   ]
  },
  {
   "cell_type": "code",
   "execution_count": 23,
   "metadata": {},
   "outputs": [
    {
     "name": "stderr",
     "output_type": "stream",
     "text": [
      "d:\\Softwares\\anaconda3\\envs\\mlops-project\\lib\\site-packages\\_distutils_hack\\__init__.py:33: UserWarning: Setuptools is replacing distutils.\n",
      "  warnings.warn(\"Setuptools is replacing distutils.\")\n",
      "Successfully registered model 'best-spam-detector'.\n",
      "2023/07/22 18:06:05 INFO mlflow.tracking._model_registry.client: Waiting up to 300 seconds for model version to finish creation. Model name: best-spam-detector, version 1\n",
      "Created version '1' of model 'best-spam-detector'.\n"
     ]
    },
    {
     "data": {
      "text/plain": [
       "<mlflow.models.model.ModelInfo at 0x1f412e780d0>"
      ]
     },
     "execution_count": 23,
     "metadata": {},
     "output_type": "execute_result"
    }
   ],
   "source": [
    "best_max_depth = int(best_run.data.params['rf_max_depth'])\n",
    "best_n_estimators = int(best_run.data.params['rf_n_estimators'])\n",
    "\n",
    "mlflow.log_params({'rf_max_depth': best_max_depth, 'rf_n_estimators': best_n_estimators})\n",
    "\n",
    "best_clf = RandomForestClassifier(n_estimators=best_n_estimators, max_depth=best_max_depth)\n",
    "best_clf.fit(train_embeddings, train_df['label'])\n",
    "\n",
    "best_predictions = best_clf.predict(test_embeddings)\n",
    "accuracy = accuracy_score(test_df['label'], best_predictions)\n",
    "mlflow.log_metric(\"accuracy\", accuracy)\n",
    "\n",
    "dump(best_clf, 'models/best_clf.joblib')\n",
    "mlflow.sklearn.log_model(best_clf, artifact_path=\"models\", registered_model_name='spam-detector')"
   ]
  },
  {
   "cell_type": "code",
   "execution_count": null,
   "metadata": {},
   "outputs": [],
   "source": [
    "t"
   ]
  }
 ],
 "metadata": {
  "kernelspec": {
   "display_name": "mlops-project",
   "language": "python",
   "name": "python3"
  },
  "language_info": {
   "codemirror_mode": {
    "name": "ipython",
    "version": 3
   },
   "file_extension": ".py",
   "mimetype": "text/x-python",
   "name": "python",
   "nbconvert_exporter": "python",
   "pygments_lexer": "ipython3",
   "version": "3.9.16"
  },
  "orig_nbformat": 4
 },
 "nbformat": 4,
 "nbformat_minor": 2
}
